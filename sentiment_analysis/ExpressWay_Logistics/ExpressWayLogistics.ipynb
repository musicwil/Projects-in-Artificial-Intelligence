{
 "cells": [
  {
   "cell_type": "markdown",
   "metadata": {
    "id": "A-kfSgIGzgGL"
   },
   "source": [
    "# **Project : A Case Study of ExpressWay Logistics**"
   ]
  },
  {
   "cell_type": "code",
   "execution_count": null,
   "metadata": {
    "colab": {
     "base_uri": "https://localhost:8080/",
     "height": 817
    },
    "id": "0xKv8V4md2D0",
    "outputId": "b1c0b51d-911a-4358-e819-f5304c27e4e1"
   },
   "outputs": [],
   "source": [
    "from IPython.display import Image, display, Markdown\n",
    "from pathlib import Path\n",
    "import os\n",
    "\n",
    "# Mount Drive\n",
    "from google.colab import drive\n",
    "drive.mount('/content/drive')\n",
    "\n",
    "IMG_PATH = Path(\"/content/drive/MyDrive/Colab Notebooks/ExpressWay Logistics/ExpressWayLogistics.png\")\n",
    "\n",
    "assert IMG_PATH.exists(), f\"Image not found at {IMG_PATH}. Check the path or upload the image there.\"\n",
    "display(Markdown(\"###ExpressWay Logistics\"))\n",
    "display(Image(filename=str(IMG_PATH)))\n"
   ]
  },
  {
   "cell_type": "markdown",
   "metadata": {
    "id": "O8Z-Vp4pzgGN"
   },
   "source": [
    "**Business Overview:**\n",
    "\n",
    "ExpressWay Logistics is a dynamic logistics service provider, committed to delivering efficient, reliable and cost-effective courier transportation and warehousing solutions. With a focus on speed, precision and customer satisfaction, the company aims to be the go-to partner for our customers seeking seamless courier services. Its core service involves ensuring operational efficiency throughout the delivery and courier services, including inventory management, durable packaging and swift dispatch of couriers, real time tracking of shipments and on-time delivery of couriers as promised. ExpressWay Logistics is committed to enhance its logistics and courier services and improve seamless connectivity for its customers."
   ]
  },
  {
   "cell_type": "markdown",
   "metadata": {
    "id": "46XFRcFTzgGN"
   },
   "source": [
    "**Current Challenge:**\n",
    "\n",
    "ExpressWay Logistics faces numerous challenges in ensuring seamless deliveries and customer satisfaction. These challenges include managing various customer demands simultaneously, addressing delays in deliveries and ensuring products arrive intact and safe. Additionally, the company struggles with complexity of efficiently storing and handling a large volume of packages and ultimately meeting customer expectations. Moreover, maintaining a skilled workforce capable of handling various aspects of logistics operations presents its own set of challenges. Overcoming these obstacles requires a comprehensive approach that integrates innovative technology, strategic planning, and continuous improvement initiatives to ensure smooth operations and exceptional service delivery."
   ]
  },
  {
   "cell_type": "markdown",
   "metadata": {
    "id": "maC1EgUJzgGO"
   },
   "source": [
    "**Objective:**\n",
    "\n",
    "My primary objective is to conduct a sentiment analysis of user-generated reviews across various digital channels and platforms. By paying attention to their feedback, I want to find ways to make its services better - like handling different customer demands simultaneously, dealing with late deliveries, and keeping packages secured and intact. Through the application of prompt engineering methodologies and sentiment analysis, I'll figure out if sentiments expressed by users for its courier services are Positive or Negative. This will help understand where the company needs to improve in order to meet customer expectations and keep customers happy. With a focus on getting better all the time, ExpressWay Logistics will overcome its challenges and make its services the best."
   ]
  },
  {
   "cell_type": "markdown",
   "metadata": {
    "id": "flUHF3xczgGO"
   },
   "source": [
    "**Data Description:**\n",
    "\n",
    "1. id: This column contains unique identifiers for each review entry. It helps in distinguishing and referencing individual reviews.\n",
    "2. review: This column includes the actual text of the courier service reviews. The reviews are likely composed of customer opinions and experiences regarding different aspects of the services provided by ExpressWay Logistics.\n",
    "3. sentiment: This column provides an additional layer of classification (positive and negative) for the mentioned reviews."
   ]
  },
  {
   "cell_type": "markdown",
   "metadata": {
    "id": "ykLYC3zzSr8z"
   },
   "source": [
    "### Installation"
   ]
  },
  {
   "cell_type": "code",
   "execution_count": null,
   "metadata": {
    "colab": {
     "base_uri": "https://localhost:8080/"
    },
    "id": "keb94_PFzgGO",
    "outputId": "809d5ce0-88cc-42fa-fe85-637f0d763202"
   },
   "outputs": [],
   "source": [
    "!pip install -q openai==1.55.3 tiktoken==0.6.0 datasets session-info --quiet"
   ]
  },
  {
   "cell_type": "markdown",
   "metadata": {
    "id": "YFZj9kr8Pahl"
   },
   "source": [
    "### Imports"
   ]
  },
  {
   "cell_type": "code",
   "execution_count": null,
   "metadata": {
    "id": "Q3gwxSqQPahl"
   },
   "outputs": [],
   "source": [
    "# Import all Python packages required to access the Azure Open AI API.\n",
    "# Import additional packages required to access datasets and create examples.\n",
    "\n",
    "from openai import AzureOpenAI\n",
    "import json\n",
    "import random\n",
    "import tiktoken\n",
    "import session_info\n",
    "\n",
    "import pandas as pd\n",
    "import numpy as np\n",
    "\n",
    "from collections import Counter\n",
    "from tqdm import tqdm\n",
    "from sklearn.model_selection import train_test_split\n",
    "from sklearn.metrics import f1_score\n",
    "from tabulate import tabulate"
   ]
  },
  {
   "cell_type": "code",
   "execution_count": null,
   "metadata": {
    "colab": {
     "base_uri": "https://localhost:8080/",
     "height": 34
    },
    "id": "6mmXtfmrS7Ml",
    "outputId": "28ea8c01-d636-4049-da75-c62d6a9a0fdc"
   },
   "outputs": [],
   "source": [
    "#session_info.show()"
   ]
  },
  {
   "cell_type": "markdown",
   "metadata": {
    "id": "WxQLP9pg-ZtE"
   },
   "source": [
    "### API Setup\n"
   ]
  },
  {
   "cell_type": "markdown",
   "metadata": {
    "id": "SN0wIDUjPahn"
   },
   "source": [
    "### Azure API setup and authentication"
   ]
  },
  {
   "cell_type": "code",
   "execution_count": null,
   "metadata": {
    "id": "2tdRk05EzgGQ"
   },
   "outputs": [],
   "source": [
    "# Define configuration information\n",
    "# Path to local config file\n",
    "\n",
    "CONFIG_PATH = 'config.json'"
   ]
  },
  {
   "cell_type": "code",
   "execution_count": null,
   "metadata": {
    "id": "cxLhZIviPahn"
   },
   "outputs": [],
   "source": [
    "# Creating variable data for the Azure credentials\n",
    "\n",
    "with open(CONFIG_PATH, 'r') as az_creds:\n",
    "    creds = json.load(az_creds)"
   ]
  },
  {
   "cell_type": "code",
   "execution_count": null,
   "metadata": {
    "id": "Ud7bPDquPahp"
   },
   "outputs": [],
   "source": [
    "# Creating an Azure OpenAI instance\n",
    "\n",
    "client = AzureOpenAI(\n",
    "    azure_endpoint=creds[\"AZURE_OPENAI_ENDPOINT\"],\n",
    "    api_key=creds[\"AZURE_OPENAI_KEY\"],\n",
    "    api_version=creds[\"AZURE_OPENAI_APIVERSION\"]\n",
    ")"
   ]
  },
  {
   "cell_type": "code",
   "execution_count": null,
   "metadata": {
    "id": "Atf3l2mNPahp"
   },
   "outputs": [],
   "source": [
    "# Creating variable to read chatgpt model\n",
    "\n",
    "chat_model_id = creds[\"CHATGPT_MODEL\"]"
   ]
  },
  {
   "cell_type": "markdown",
   "metadata": {
    "id": "HQpkd5elTMhd"
   },
   "source": [
    "### Utilities"
   ]
  },
  {
   "cell_type": "markdown",
   "metadata": {
    "id": "CWmiNrVPv4Oj"
   },
   "source": [
    "This function calculates the number of tokens used in a list of messages, which is useful for estimating API usage costs in OpenAI models. It first sets up token encoding based on the gpt-4 model. Each message is counted with an overhead of three tokens due to the special formatting (<|start|>, role (system, user, or assistant), and <|end|>). It then iterates through the messages, encoding and counting tokens for each key-value pair. Finally, an additional three tokens are added to account for the assistant's reply formatting."
   ]
  },
  {
   "cell_type": "code",
   "execution_count": null,
   "metadata": {
    "id": "V5Gp-_CxPahp"
   },
   "outputs": [],
   "source": [
    "# Creating a function to evaluate the token consumption per model for cost estimating\n",
    "\n",
    "def num_tokens_from_messages(messages):\n",
    "\n",
    "    \"\"\"\n",
    "    Return the number of tokens used by a list of messages.\n",
    "    Adapted from the Open AI cookbook token counter\n",
    "    \"\"\"\n",
    "\n",
    "    encoding = tiktoken.encoding_for_model(\"gpt-4\")\n",
    "\n",
    "    # Each message is sandwiched with <|start|>role and <|end|>\n",
    "    # Hence, messages look like: <|start|>system or user or assistant{message}<|end|>\n",
    "\n",
    "    tokens_per_message = 3 # token1:<|start|>, token2:system(or user or assistant), token3:<|end|>\n",
    "\n",
    "    num_tokens = 0\n",
    "\n",
    "    for message in messages:\n",
    "        num_tokens += tokens_per_message\n",
    "        for key, value in message.items():\n",
    "            num_tokens += len(encoding.encode(value))\n",
    "\n",
    "    num_tokens += 3  # every reply is primed with <|start|>assistant<|message|>\n",
    "\n",
    "    return num_tokens"
   ]
  },
  {
   "cell_type": "markdown",
   "metadata": {
    "id": "WhctrBwFPahq"
   },
   "source": [
    "##**Assembling and understanding data**\n"
   ]
  },
  {
   "cell_type": "code",
   "execution_count": null,
   "metadata": {
    "id": "SA5Cyqgk5kgB"
   },
   "outputs": [],
   "source": [
    "# Reading CSV File with dataset into a dataframe\n",
    "\n",
    "cs_reviews_df = pd.read_csv(\"courier_service_review.csv\")"
   ]
  },
  {
   "cell_type": "code",
   "execution_count": null,
   "metadata": {
    "colab": {
     "base_uri": "https://localhost:8080/"
    },
    "id": "a-NSh5_p7V5E",
    "outputId": "a86fcc9e-a1bc-4b0c-9dfc-709b797ef4a5"
   },
   "outputs": [],
   "source": [
    "# Checking variables, data types, missing values, and size of dataset\n",
    "\n",
    "cs_reviews_df.info()"
   ]
  },
  {
   "cell_type": "code",
   "execution_count": null,
   "metadata": {
    "colab": {
     "base_uri": "https://localhost:8080/",
     "height": 206
    },
    "id": "UJmr1iJ5_tNm",
    "outputId": "b9aff92c-34b7-47e5-dba4-0e8baec4f5b3"
   },
   "outputs": [],
   "source": [
    "# Printing some examples to get to know the data\n",
    "\n",
    "cs_reviews_df.sample(5)"
   ]
  },
  {
   "cell_type": "code",
   "execution_count": null,
   "metadata": {
    "colab": {
     "base_uri": "https://localhost:8080/",
     "height": 178
    },
    "id": "O5AbhvRV9o-e",
    "outputId": "317eef3d-1dfc-4abe-a3b9-e82f9d6b6ad0"
   },
   "outputs": [],
   "source": [
    "# Verifying if label is skewed\n",
    "\n",
    "cs_reviews_df['sentiment'].value_counts()"
   ]
  },
  {
   "cell_type": "code",
   "execution_count": null,
   "metadata": {
    "colab": {
     "base_uri": "https://localhost:8080/"
    },
    "id": "l3Z0q0b6zgGT",
    "outputId": "ff476ac4-9377-49d3-9738-aea5ec24c8f7"
   },
   "outputs": [],
   "source": [
    "# Checking the number of rows and columns\n",
    "\n",
    "cs_reviews_df.shape"
   ]
  },
  {
   "cell_type": "markdown",
   "metadata": {
    "id": "98n7YFzXBFEL"
   },
   "source": [
    "###Observations on the data\n",
    "- Dataset contains 3 variables and 131 rows\n",
    "- Column id is of integer type, variables review and sentiment are of object type.\n",
    "- Dataset is is lightly skewed."
   ]
  },
  {
   "cell_type": "markdown",
   "metadata": {
    "id": "MiXuxmchzgGT"
   },
   "source": [
    "**Splitting the Dataset**"
   ]
  },
  {
   "cell_type": "code",
   "execution_count": null,
   "metadata": {
    "id": "dkXtXbc9N5rC"
   },
   "outputs": [],
   "source": [
    "# Splitting the data with a robust test set to enhance performance for good predictions\n",
    "\n",
    "cs_examples_df, cs_gold_examples_df = train_test_split(\n",
    "    cs_reviews_df, #<- the full dataset\n",
    "    test_size=0.40, #<- 40% random sample selected for gold examples\n",
    "    random_state=42 #<- ensures that the splits are the same for every session\n",
    ")"
   ]
  },
  {
   "cell_type": "code",
   "execution_count": null,
   "metadata": {
    "colab": {
     "base_uri": "https://localhost:8080/"
    },
    "id": "bGSj2dfZOMW-",
    "outputId": "fb08b7a2-94c6-4aa6-db95-ba038c3dbba3"
   },
   "outputs": [],
   "source": [
    "# Verifying size of train adn test sets\n",
    "\n",
    "(cs_examples_df.shape, cs_gold_examples_df.shape)"
   ]
  },
  {
   "cell_type": "markdown",
   "metadata": {
    "id": "2ExVGFPl4tdx"
   },
   "source": [
    "To select gold examples for this session, we sample randomly from the test data using a `random_state=42`. This ensures that the examples from multiple runs of the sampling are the same (i.e., they are randomly selected but do not change between different runs of the notebook)."
   ]
  },
  {
   "cell_type": "code",
   "execution_count": null,
   "metadata": {
    "id": "YLj4LVu_Ozc_"
   },
   "outputs": [],
   "source": [
    "# Selecting columns to extract values for gold_examples\n",
    "\n",
    "columns_to_select = ['review','sentiment']"
   ]
  },
  {
   "cell_type": "code",
   "execution_count": null,
   "metadata": {
    "id": "nDIZm2RdMsDt"
   },
   "outputs": [],
   "source": [
    "# Picking 53 samples for evaluation purpose. Examples will not change.\n",
    "# They will only be sorted out randomly. Also, to convert gold_examples to a Json dictionary\n",
    "\n",
    "gold_examples = (\n",
    "        cs_gold_examples_df.loc[:, columns_to_select]\n",
    "                                     .sample(53, random_state=42) #<- ensures that gold examples are the same for every session\n",
    "                                     .to_json(orient='records')\n",
    ")"
   ]
  },
  {
   "cell_type": "code",
   "execution_count": null,
   "metadata": {
    "colab": {
     "base_uri": "https://localhost:8080/",
     "height": 139
    },
    "id": "5AcH3eqgzgGV",
    "outputId": "1666fad3-b1a3-4af4-ca46-6c7d8242a9cf"
   },
   "outputs": [],
   "source": [
    "# Checking the gold examples\n",
    "\n",
    "gold_examples"
   ]
  },
  {
   "cell_type": "code",
   "execution_count": null,
   "metadata": {
    "colab": {
     "base_uri": "https://localhost:8080/"
    },
    "id": "r8J58KMMM95s",
    "outputId": "357e1aff-ab25-4a93-fc42-5937c954d22a"
   },
   "outputs": [],
   "source": [
    "# To convert gold_examples to a dictionary in Json format. Verifying format with one sample.\n",
    "\n",
    "json.loads(gold_examples)[0]"
   ]
  },
  {
   "cell_type": "markdown",
   "metadata": {
    "id": "ZPsU-h8FPaht"
   },
   "source": [
    "##**Deriving the Prompt**\n"
   ]
  },
  {
   "cell_type": "code",
   "execution_count": null,
   "metadata": {
    "id": "NfDUKbCgPahu"
   },
   "outputs": [],
   "source": [
    "# Establishing user input message\n",
    "\n",
    "user_message_template = \"\"\"```{courier_service_review}```\"\"\""
   ]
  },
  {
   "cell_type": "markdown",
   "metadata": {
    "id": "X3uS8NWfNqBG"
   },
   "source": [
    "**Zero Shot System Message**"
   ]
  },
  {
   "cell_type": "code",
   "execution_count": null,
   "metadata": {
    "id": "J79_IaxHJdY2"
   },
   "outputs": [],
   "source": [
    "# Writing zero shot system message\n",
    "\n",
    "zero_shot_system_message = \"\"\"\n",
    "Classify customer review in the input as positive or negative in sentiment.\n",
    "Reviews will be delimited by triple backticks, that is, ```.\n",
    "Do not explain your answer. Your answer should only contain the label: positive or negative.\n",
    "\"\"\"\n",
    "# Write zero shot system message here"
   ]
  },
  {
   "cell_type": "markdown",
   "metadata": {
    "id": "46AWalvrLTxs"
   },
   "source": [
    "**Zero Shot Prompt**"
   ]
  },
  {
   "cell_type": "code",
   "execution_count": null,
   "metadata": {
    "id": "t8cjNjiJJpzc"
   },
   "outputs": [],
   "source": [
    "# Creating zero shot prompt to be input ready for completion function\n",
    "\n",
    "zero_shot_prompt = [\n",
    "    {\"role\": \"system\", \"content\": zero_shot_system_message},\n",
    "    {\"role\": \"user\", \"content\": user_message_template}\n",
    "]"
   ]
  },
  {
   "cell_type": "code",
   "execution_count": null,
   "metadata": {
    "colab": {
     "base_uri": "https://localhost:8080/"
    },
    "id": "xlbBt1u_OJEz",
    "outputId": "1ed01268-ad37-451f-c8e5-f6973aeee289"
   },
   "outputs": [],
   "source": [
    "# Getting the token consumption for the zero shot prompt\n",
    "\n",
    "num_tokens_from_messages(zero_shot_prompt)"
   ]
  },
  {
   "cell_type": "markdown",
   "metadata": {
    "id": "48bF42gAyQ7Q"
   },
   "source": [
    "**Few Shot System Message**"
   ]
  },
  {
   "cell_type": "code",
   "execution_count": null,
   "metadata": {
    "id": "2nrW4jzGLdce"
   },
   "outputs": [],
   "source": [
    "# Writing few shot system message\n",
    "\n",
    "few_shot_system_message = \"\"\"\n",
    "Classify customer review in the input as positive or negative in sentiment.\n",
    "Reviews will be delimited by triple backticks, that is, ```.\n",
    "Do not explain your answer. Your answer should only contain the label: positive or negative.\n",
    "\"\"\""
   ]
  },
  {
   "cell_type": "markdown",
   "metadata": {
    "id": "6GwlhupAx_IM"
   },
   "source": [
    "```create_examples``` function generates a randomized set of example reviews with equal representation from two sentiment classes: Positive and Negative. It first filters the dataset into two separate groups based on sentiment labels. Then, it randomly selects `n` examples from each class and combines them into a single dataset. The combined examples are shuffled to ensure randomness before being converted into a JSON format. Each time the function runs, it produces a different set of randomized examples from the dataset."
   ]
  },
  {
   "cell_type": "code",
   "execution_count": null,
   "metadata": {
    "id": "Qb0mLtE9R7ZA"
   },
   "outputs": [],
   "source": [
    "# Function to create examples. For higher efficiency, I'm using n=16\n",
    "\n",
    "def create_examples(dataset, n=16):\n",
    "\n",
    "    \"\"\"\n",
    "    Return a JSON list of randomized examples of size 2n with two classes.\n",
    "    Create subsets of each class, choose random samples from the subsets,\n",
    "    merge and randomize the order of samples in the merged list.\n",
    "    Each run of this function creates a different random sample of examples\n",
    "    chosen from the training data.\n",
    "\n",
    "    Args:\n",
    "        dataset (DataFrame): A DataFrame with examples (review + label)\n",
    "        n (int): number of examples of each class to be selected\n",
    "\n",
    "    Output:\n",
    "        randomized_examples (JSON): A JSON with examples in random order\n",
    "    \"\"\"\n",
    "\n",
    "    positive_reviews = (dataset.sentiment == 'Positive')\n",
    "    negative_reviews = (dataset.sentiment == 'Negative')\n",
    "    columns_to_select = ['review', 'sentiment']\n",
    "\n",
    "    positive_examples = dataset.loc[positive_reviews, columns_to_select].sample(n)\n",
    "    negative_examples = dataset.loc[negative_reviews, columns_to_select].sample(n)\n",
    "\n",
    "    examples = pd.concat([positive_examples, negative_examples])\n",
    "\n",
    "    # sampling without replacement is equivalent to random shuffling\n",
    "\n",
    "    randomized_examples = examples.sample(2*n, replace=False)\n",
    "\n",
    "    return randomized_examples.to_json(orient='records')"
   ]
  },
  {
   "cell_type": "markdown",
   "metadata": {
    "id": "vHhPExVTyO93"
   },
   "source": [
    "**Examples For Few shot prompte**"
   ]
  },
  {
   "cell_type": "code",
   "execution_count": null,
   "metadata": {
    "id": "jb1VpSgZPaht"
   },
   "outputs": [],
   "source": [
    "# Creating the examples (2n=32, 16 per class)\n",
    "\n",
    "examples = create_examples(cs_reviews_df, n=16)"
   ]
  },
  {
   "cell_type": "code",
   "execution_count": null,
   "metadata": {
    "colab": {
     "base_uri": "https://localhost:8080/"
    },
    "id": "dJInVW2PSucc",
    "outputId": "09de4a09-8a52-4e33-876a-bd59e2d16c4b"
   },
   "outputs": [],
   "source": [
    "# Converting examples to Json format\n",
    "\n",
    "json.loads(examples)"
   ]
  },
  {
   "cell_type": "markdown",
   "metadata": {
    "id": "Yzw31kh8yjb4"
   },
   "source": [
    "create_prompt function constructs a few-shot prompt formatted for the OpenAI API, incorporating system instructions, example interactions, and a user message template. It starts by adding the system message, which provides guidelines for sentiment analysis. Then, it loops through the provided examples, formatting each review as a user message and its corresponding sentiment as an assistant response. These are appended to the prompt list in the required sequence. The final output is a structured list of dictionaries that can be directly used as input for an OpenAI model."
   ]
  },
  {
   "cell_type": "code",
   "execution_count": null,
   "metadata": {
    "id": "mFK2WQOgS8ey"
   },
   "outputs": [],
   "source": [
    "# Defining function to create few_shot_prompt\n",
    "\n",
    "def create_prompt(system_message, examples, user_message_template):\n",
    "\n",
    "    \"\"\"\n",
    "    Return a prompt message in the format expected by the Open AI API.\n",
    "    Loop through the examples and parse them as user message and assistant\n",
    "    message.\n",
    "\n",
    "    Args:\n",
    "        system_message (str): system message with instructions for sentiment analysis\n",
    "        examples (str): JSON string with list of examples\n",
    "        user_message_template (str): string with a placeholder for courier service reviews\n",
    "\n",
    "    Output:\n",
    "        few_shot_prompt (List): A list of dictionaries in the Open AI prompt format\n",
    "    \"\"\"\n",
    "\n",
    "    few_shot_prompt = [{'role':'system', 'content': system_message}]\n",
    "\n",
    "    for example in json.loads(examples):\n",
    "        example_review = example['review']\n",
    "        example_sentiment = example['sentiment']\n",
    "\n",
    "        few_shot_prompt.append(\n",
    "            {\n",
    "                'role': 'user',\n",
    "                'content': user_message_template.format(\n",
    "                    courier_service_review=example_review\n",
    "                )\n",
    "            }\n",
    "        )\n",
    "\n",
    "        few_shot_prompt.append(\n",
    "            {'role': 'assistant', 'content': f\"{example_sentiment}\"}\n",
    "        )\n",
    "\n",
    "    return few_shot_prompt"
   ]
  },
  {
   "cell_type": "markdown",
   "metadata": {
    "id": "5YN0Zt1dyZ3X"
   },
   "source": [
    "**Few Shot Prompt**"
   ]
  },
  {
   "cell_type": "code",
   "execution_count": null,
   "metadata": {
    "id": "QoO1lCFtTBUV"
   },
   "outputs": [],
   "source": [
    "# Creating Few shot prompt\n",
    "\n",
    "few_shot_prompt = create_prompt(\n",
    "    few_shot_system_message,\n",
    "    examples,\n",
    "    user_message_template\n",
    "    )"
   ]
  },
  {
   "cell_type": "code",
   "execution_count": null,
   "metadata": {
    "colab": {
     "base_uri": "https://localhost:8080/"
    },
    "id": "sy91eq9FTNeo",
    "outputId": "7cdd77be-e34d-48e6-db04-fb285c61930d"
   },
   "outputs": [],
   "source": [
    "# Verifying content for executed few shot prompt\n",
    "\n",
    "few_shot_prompt"
   ]
  },
  {
   "cell_type": "code",
   "execution_count": null,
   "metadata": {
    "colab": {
     "base_uri": "https://localhost:8080/"
    },
    "id": "ItFH6zLJMnb9",
    "outputId": "6a6568a2-b2db-497a-82bd-130fd969557b"
   },
   "outputs": [],
   "source": [
    "# Getting the token count for few_shot_prompt\n",
    "\n",
    "num_tokens_from_messages(few_shot_prompt)"
   ]
  },
  {
   "cell_type": "markdown",
   "metadata": {
    "id": "mcI8oyIcPfPW"
   },
   "source": [
    "##**Prompt evaluation**\n"
   ]
  },
  {
   "cell_type": "markdown",
   "metadata": {
    "id": "p1zDjL3-0Kr0"
   },
   "source": [
    "The ```evaluate_prompt``` function evaluates the performance of a sentiment analysis model using a micro-F1 score by comparing its predictions to gold-standard examples. It iterates through gold examples, formats each review into a user input message, and appends it to the provided prompt. The prompt is then sent to the OpenAI model for prediction, ensuring deterministic outputs by setting a low temperature and restricting the token limit. The predicted sentiments are collected alongside ground truth labels for evaluation. Finally, the function calculates and prints the micro-F1 score while displaying a comparison table of reviews, predictions, and actual labels.\n",
    "\n",
    "\n",
    "\n",
    "\n",
    "\n",
    "\n",
    "\n"
   ]
  },
  {
   "cell_type": "code",
   "execution_count": null,
   "metadata": {
    "id": "yWpWWcLAzgGY"
   },
   "outputs": [],
   "source": [
    "# Defining function to evaluate both prompting techniques\n",
    "\n",
    "def evaluate_prompt(prompt, gold_examples, user_message_template):\n",
    "\n",
    "    \"\"\"\n",
    "    Return the micro-F1 score for predictions on gold examples.\n",
    "    For each example, we make a prediction using the prompt. Gold labels and\n",
    "    model predictions are aggregated into lists and compared to compute the\n",
    "    F1 score.\n",
    "\n",
    "    Args:\n",
    "        prompt (List): list of messages in the Open AI prompt format\n",
    "        gold_examples (str): JSON string with list of gold examples\n",
    "        user_message_template (str): string with a placeholder for courier service review\n",
    "\n",
    "    Output:\n",
    "        micro_f1_score (float): Micro-F1 score computed by comparing model predictions\n",
    "                                with ground truth\n",
    "    \"\"\"\n",
    "\n",
    "    model_predictions, ground_truths, review_texts = [], [], []\n",
    "\n",
    "    for example in json.loads(gold_examples):\n",
    "        gold_input = example['review']\n",
    "        user_input = [\n",
    "            {\n",
    "                'role':'user',\n",
    "                'content': user_message_template.format(courier_service_review=gold_input)\n",
    "            }\n",
    "        ]\n",
    "\n",
    "        try:\n",
    "            response = client.chat.completions.create(\n",
    "                model=chat_model_id,\n",
    "                messages=prompt+user_input,\n",
    "                temperature=0, # <- Keeping it at zero for a deterministic response\n",
    "                max_tokens=2 # <- Note how we restrict the output to not more than 2 tokens\n",
    "            )\n",
    "\n",
    "            prediction = response.choices[0].message.content\n",
    "            # response = openai.ChatCompletion.create(\n",
    "            #     deployment_id=chat_model_id,\n",
    "            #     messages=prompt+user_input,\n",
    "            #     temperature=0, # <- Note the low temperature(For a deterministic response)\n",
    "            #     # max_tokens=2 # <- Note how we restrict the output to not more than 2 tokens\n",
    "            # )\n",
    "\n",
    "            # prediction = response['choices'][0]['message']['content']\n",
    "            model_predictions.append(prediction.strip().lower()) # <- removes extraneous white spaces\n",
    "            ground_truths.append(example['sentiment'].lower())\n",
    "            review_texts.append(gold_input)\n",
    "\n",
    "        except Exception as e:\n",
    "            continue\n",
    "\n",
    "    micro_f1_score = f1_score(ground_truths, model_predictions, average=\"micro\")\n",
    "\n",
    "    table_data = [[text, pred, truth] for text, pred, truth in zip(review_texts, model_predictions, ground_truths)]\n",
    "    headers = [\"Review\", \"Model Prediction\", \"Ground Truth\"]\n",
    "    print(tabulate(table_data, headers=headers, tablefmt=\"grid\"))\n",
    "\n",
    "    return micro_f1_score\n"
   ]
  },
  {
   "cell_type": "markdown",
   "metadata": {
    "id": "s61rE4tMVHqt"
   },
   "source": [
    "Let us now use this function to do one evaluation of all the two prompts assembled so far, each time computing the Micro-F1 score."
   ]
  },
  {
   "cell_type": "markdown",
   "metadata": {
    "id": "XpmEiVPIZUBl",
    "nteract": {
     "transient": {
      "deleting": false
     }
    }
   },
   "source": [
    "##**Evaluating zero shot prompt**"
   ]
  },
  {
   "cell_type": "code",
   "execution_count": null,
   "metadata": {
    "colab": {
     "base_uri": "https://localhost:8080/"
    },
    "id": "Kar164F4nd9x",
    "outputId": "0484b0e7-fa71-46b1-8521-466e1d0319e3"
   },
   "outputs": [],
   "source": [
    "# Executing function to evaluate zero shot prompt\n",
    "\n",
    "evaluate_prompt(zero_shot_prompt, gold_examples, user_message_template)"
   ]
  },
  {
   "cell_type": "markdown",
   "metadata": {
    "id": "ya73XdatZUBl",
    "nteract": {
     "transient": {
      "deleting": false
     }
    }
   },
   "source": [
    "##**Evaluating few shot prompt**"
   ]
  },
  {
   "cell_type": "code",
   "execution_count": null,
   "metadata": {
    "colab": {
     "base_uri": "https://localhost:8080/"
    },
    "id": "tqQTgKUkZUBl",
    "jupyter": {
     "outputs_hidden": false,
     "source_hidden": false
    },
    "nteract": {
     "transient": {
      "deleting": false
     }
    },
    "outputId": "ce0ff13e-5a2c-4d76-a5aa-b89c28cea946"
   },
   "outputs": [],
   "source": [
    "# Executing function to evaluate few_shot_prompt\n",
    "\n",
    "evaluate_prompt(few_shot_prompt, gold_examples, user_message_template)"
   ]
  },
  {
   "cell_type": "markdown",
   "metadata": {
    "id": "IUYn7f-LVzs-"
   },
   "source": [
    "This is a pretty good score. However, this is just *one* choice of examples. We will need to run these evaluations with multiple choices of examples to get a sense of variability in F1 score for the few-shot prompt. As an example, let us run evaluations for the few-shot prompt 10 times."
   ]
  },
  {
   "cell_type": "markdown",
   "metadata": {
    "id": "exqfKeaz0xeK"
   },
   "source": [
    "This next part evaluates the variability of the micro-F1 score for few-shot and zero-shot prompts by running multiple evaluations with different example selections. It loops num_eval_runs times, generating a new random set of examples in each iteration. A zero-shot prompt is created using only system instructions, while a few-shot prompt includes both system instructions and the selected examples. Each prompt is then evaluated on gold-standard examples to measure performance. The resulting micro-F1 scores for both methods are stored in separate lists for further analysis.\n"
   ]
  },
  {
   "cell_type": "code",
   "execution_count": null,
   "metadata": {
    "id": "GTXUDXYy7dku"
   },
   "outputs": [],
   "source": [
    " # Iterating on data to check F-1 score variability to compare prompts\n",
    "\n",
    "num_eval_runs =10"
   ]
  },
  {
   "cell_type": "code",
   "execution_count": null,
   "metadata": {
    "id": "n6pQkocytqG_"
   },
   "outputs": [],
   "source": [
    "# Storing results in lists\n",
    "\n",
    "zero_shot_performance = []\n",
    "few_shot_performance = []"
   ]
  },
  {
   "cell_type": "code",
   "execution_count": null,
   "metadata": {
    "colab": {
     "base_uri": "https://localhost:8080/"
    },
    "id": "BdUaodX3tseE",
    "outputId": "dacb3bf5-c3e4-41d8-9acd-dca40eeec324"
   },
   "outputs": [],
   "source": [
    "# Running the evaluations\n",
    "\n",
    "for _ in tqdm(range(num_eval_runs)):\n",
    "\n",
    "    # For each run create a new sample of examples\n",
    "    examples = create_examples(cs_examples_df)\n",
    "\n",
    "    # Assemble the zero shot prompt with these examples\n",
    "    zero_shot_prompt = [{'role':'system', 'content': zero_shot_system_message}]\n",
    "\n",
    "    # Assemble the few shot prompt with these examples\n",
    "    few_shot_prompt = create_prompt(few_shot_system_message, examples, user_message_template)\n",
    "\n",
    "    # Evaluate zero shot prompt accuracy on gold examples\n",
    "    zero_shot_micro_f1 = evaluate_prompt(zero_shot_prompt, gold_examples, user_message_template)\n",
    "\n",
    "    # Evaluate few shot prompt accuracy on gold examples\n",
    "    few_shot_micro_f1 = evaluate_prompt(few_shot_prompt, gold_examples, user_message_template)\n",
    "\n",
    "    zero_shot_performance.append(zero_shot_micro_f1)\n",
    "    few_shot_performance.append(few_shot_micro_f1)"
   ]
  },
  {
   "cell_type": "markdown",
   "metadata": {
    "id": "4JSJzAeZZUBl",
    "nteract": {
     "transient": {
      "deleting": false
     }
    }
   },
   "source": [
    "**Calculating Mean and Standard Deviation for Zero Shot Prompt and Few Shot Prompt**"
   ]
  },
  {
   "cell_type": "code",
   "execution_count": null,
   "metadata": {
    "colab": {
     "base_uri": "https://localhost:8080/"
    },
    "id": "Wlx7hRekacH2",
    "outputId": "f3e7b4fd-2a7a-4fcd-c6e3-df74bf33b512"
   },
   "outputs": [],
   "source": [
    "# Calculating mean and standard deviation for F-1 micro score for Zero Shot Prompt\n",
    "\n",
    "np.array(zero_shot_performance).mean(), np.array(zero_shot_performance).std()"
   ]
  },
  {
   "cell_type": "code",
   "execution_count": null,
   "metadata": {
    "colab": {
     "base_uri": "https://localhost:8080/"
    },
    "id": "aUt85F--aehR",
    "outputId": "8e67acc6-8f2c-4b7c-ba78-53b82a1e931f"
   },
   "outputs": [],
   "source": [
    "# Calculating mean and standard deviation for F-1 micro score for Fex Shot Prompt\n",
    "\n",
    "np.array(few_shot_performance).mean(), np.array(few_shot_performance).std()"
   ]
  },
  {
   "cell_type": "markdown",
   "metadata": {
    "id": "P5bxwSR894YB"
   },
   "source": [
    "#**Observations, Insights and Business perspective**\n",
    "\n"
   ]
  },
  {
   "cell_type": "markdown",
   "metadata": {
    "id": "syp8QvPVYOOa"
   },
   "source": [
    "##**Observations on the model**"
   ]
  },
  {
   "cell_type": "markdown",
   "metadata": {
    "id": "LYL-XuN8N1wm"
   },
   "source": [
    "- As we have learned throught this course, Prompt Engeneering is an iterative process. And this was certainly the case with ExpressWay Logistics case.\n",
    "- The approach I followed after an inital review of the notebook was to complete the fillable spaces. The inital score results demanded further action as they did not look promising: same scores for both techniques, and 0.0 standard deviations. A call for further research was required.\n",
    "- I decided to sequentially apply a Data Science common practice: the more datapoints we have, the better results we should obtain. I started to methodically modify certain snippets.\n",
    "- Moreover, a comment we have seen in more than one notebook throughout the course coincides with this principle: \"In practice, large number of gold examples facilitate robust estimates of model accuracy.\"\n",
    "- My first adjustment was to the test_size. I increased it to 40%, which resulted in 53 data points for the test_size set, that is, cs_gold_examples_df. The gold examples sample looks more robust now.\n",
    "- As a general practice, to see the effect of this change I executed the notebook up to the final scores. There were improvement in the scores, but they still remained the same for both prompting techniques. This meant that there was still more work to do.\n",
    "- The rule of large numbers had to be applied to the other numeric components of the task on hand. I proceeded to increase the number of examples from 4(8) to 16(32). Individual results were better, but the samples were still not enough to create a more distinguishable difference between the two prompts.\n",
    "- Then I extended the number of evaluation runs from 5 to 10. And the rule of large numbers was proven right.\n",
    "- Mathematically, the zero-shot's superior performance is evidenced by its higher mean F1-score (0.962) and negligible standard deviation, ensuring a consistently high prediction accuracy, while the few-shot's lower mean F1-score (0.960) and noticeable standard deviation (0.00566) suggest less predictable and slightly poorer average outcomes. Both scores were good, but zero_shot offered a more powerful predictability capacity.\n",
    "- This, coupled with the intuitive lower token cost (only need to compare the input token counts, zero_shot: 66, few shot: 2085), logically leads to the conclusion that the zero-shot prompt is the winner of this task.\n"
   ]
  },
  {
   "cell_type": "markdown",
   "metadata": {
    "id": "5k8f-e9wN1Xt"
   },
   "source": [
    "###**Insights from sentiment analysis and its impact on the business**"
   ]
  },
  {
   "cell_type": "markdown",
   "metadata": {
    "id": "i8rpDuANp5T4"
   },
   "source": [
    "**Customer dissatisfaction level**"
   ]
  },
  {
   "cell_type": "code",
   "execution_count": null,
   "metadata": {
    "colab": {
     "base_uri": "https://localhost:8080/"
    },
    "id": "WSy0503wcgFq",
    "outputId": "d0b0cee6-5988-4b17-aa4a-522d823753dc"
   },
   "outputs": [],
   "source": [
    "print(f\"Percentage of dissatisfied customers as per review reviews data is {63/131*100:.0f}%\")"
   ]
  },
  {
   "cell_type": "markdown",
   "metadata": {
    "id": "BuVj2WN_N1Kr"
   },
   "source": [
    "- It is clear, from the sample of 131 courier reviews from customers, that there is a high level of unsatisfied customer"
   ]
  },
  {
   "cell_type": "markdown",
   "metadata": {
    "id": "c57VPLnmqN8I"
   },
   "source": [
    "**Top 5 customer complaints**"
   ]
  },
  {
   "cell_type": "markdown",
   "metadata": {
    "id": "4hnvLJk4eXkU"
   },
   "source": [
    "Let's find out the top 5 complaints from the courier_service_review dataset"
   ]
  },
  {
   "cell_type": "code",
   "execution_count": null,
   "metadata": {
    "id": "GtV_vSTeiuoq"
   },
   "outputs": [],
   "source": [
    "# Let's create a list of negative reviews\n",
    "\n",
    "negative_review_texts = cs_reviews_df[cs_reviews_df['sentiment'] == 'Negative']['review'].tolist()"
   ]
  },
  {
   "cell_type": "code",
   "execution_count": null,
   "metadata": {
    "colab": {
     "base_uri": "https://localhost:8080/"
    },
    "id": "TETMOh7Bi3D8",
    "outputId": "dbfff36a-f960-40b7-8be4-9b0565f710dd"
   },
   "outputs": [],
   "source": [
    "len(negative_review_texts)"
   ]
  },
  {
   "cell_type": "code",
   "execution_count": null,
   "metadata": {
    "colab": {
     "base_uri": "https://localhost:8080/",
     "height": 70
    },
    "id": "BxRKE_kYjfsJ",
    "outputId": "d16acefa-52b0-4d5b-f12f-3ebfa36d6324"
   },
   "outputs": [],
   "source": [
    "negative_review_texts[0]"
   ]
  },
  {
   "cell_type": "code",
   "execution_count": null,
   "metadata": {
    "colab": {
     "base_uri": "https://localhost:8080/"
    },
    "id": "tJzcCyyhgn_k",
    "outputId": "81aa1cf4-2e4a-4165-b0ab-cde51f371c66"
   },
   "outputs": [],
   "source": [
    "complaint_extraction_system_message = \"\"\"\n",
    "You are an AI assistant specialized in analyzing customer feedback. Your task is to\n",
    "identify and list the most common complaints found in the provided courier service\n",
    "reviews. Summarize them concisely.\n",
    "\"\"\"\n",
    "\n",
    "# to concatenate negaative reviews ibnto one single string\n",
    "combined_negative_reviews = \"\\n\".join(negative_review_texts[:63])\n",
    "\n",
    "complaint_extraction_user_message = f\"\"\"Here are several negative courier service reviews:\n",
    "\n",
    "{combined_negative_reviews}\n",
    "\n",
    "Based on these reviews, what are the 5 most common complaints? List them concisely.\"\"\"\n",
    "\n",
    "messages_for_complaints = [\n",
    "    {\"role\": \"system\", \"content\": complaint_extraction_system_message},\n",
    "    {\"role\": \"user\", \"content\": complaint_extraction_user_message}\n",
    "]\n",
    "\n",
    "# Let's call the API\n",
    "\n",
    "try:\n",
    "            response = client.chat.completions.create(\n",
    "                model=chat_model_id,\n",
    "                messages=messages_for_complaints,\n",
    "                temperature=0.5, # Use a slightly higher temperature for more diverse summaries\n",
    "                max_tokens=200 # Adjust as needed for the length of expected complaints\n",
    "     )\n",
    "            complaints = response.choices[0].message.content\n",
    "            print(complaints)\n",
    "\n",
    "except Exception as e:\n",
    "            print(f\"Error extracting complaints: {e}\")\n",
    "\n"
   ]
  },
  {
   "cell_type": "markdown",
   "metadata": {
    "id": "Z5siai1PrWcW"
   },
   "source": [
    "Customer complaints are very serious and could undermine the business significantly if no further corrective actions are taken\n",
    "This is a list of recommendations based on the top 5 customer complaints obtained from teh provided data:"
   ]
  },
  {
   "cell_type": "markdown",
   "metadata": {
    "id": "rD9z5pOMpvKv"
   },
   "source": [
    "####**Business recommendations**\n",
    "\n",
    "The following are a list of recommended actions based on the business insights obtained from the data and that reflect the aian 5 areas where customer have issue with."
   ]
  },
  {
   "cell_type": "markdown",
   "metadata": {
    "id": "-LRjuohfw5-b"
   },
   "source": [
    "####**Delivery delays**\n",
    "\n",
    "1-**Enhance Predictive Analytics for ETAs**  \n",
    "- Implement or refine AI-driven ETA (Estimated Time of Arrival) models that incorporate real-time traffic data, weather conditions, historical delivery performance, driver availability, and typical handling times. This allows for more realistic and accurate delivery promises from the outset.  \n",
    "- Build realistic time buffers into delivery promises, especially for complex or less predictable routes, rather than over-optimizing for speed and risking missed deadlines.  \n",
    "\n",
    "2-**Optimize Routing and Fleet Management**  \n",
    "- Invest in dynamic route optimization software that can re-calculate and adjust routes in real-time based on unexpected events (e.g., traffic jams, sudden road closures, new urgent pickups/deliveries).  \n",
    "- Utilize advanced fleet management systems to monitor driver location, vehicle status, and performance, enabling dispatchers to intervene proactively if delays are anticipated.  \n",
    "\n",
    "3-**Proactive and Transparent Communication**  \n",
    "- Establish a system for automated, real-time notifications (SMS, email, app push) to customers regarding shipment status updates, including immediate alerts for any unforeseen delays, along with revised ETAs and clear reasons for the delay.  \n",
    "- Provide customers with robust, self-service tracking portals that offer granular updates and, crucially, display the most current predicted delivery window.  \n",
    "- Follow up with on customers to assess improvements are hear suggestions.  \n",
    "\n",
    "4-**Improve Last-Mile Efficiency**  \n",
    "- Explore strategies like micro-hubs or urban distribution centers to reduce travel time and congestion in dense delivery areas.  \n",
    "- Ensure drivers are equipped with efficient navigation tools and communication devices to report issues and receive real-time support.  \n",
    "\n",
    "5-**Identify and Address Root Causes**  \n",
    "- Conduct thorough data analysis on all late deliveries to identify recurring patterns (e.g., specific routes, times of day, types of goods, loading/unloading inefficiencies at certain points, specific internal processes) and implement targeted corrective actions.  \n",
    "- Gather post-delivery feedback specifically on timeliness to uncover customer-centric reasons for dissatisfaction.  \n",
    "- Meet with company drivers to get feedback of the issues they face, and establish goals and incentives for percentage of successful deliveries.  \n",
    "\n",
    "\n"
   ]
  },
  {
   "cell_type": "markdown",
   "metadata": {
    "id": "e_jtw1Lb4-k3"
   },
   "source": [
    "####**Poor Customer Service**\n",
    "\n",
    "1-**Elevate Staff Training & Development**  \n",
    "\n",
    "- Intensive Soft Skills Training: Implement mandatory and ongoing training modules focused on active listening, empathy, de-escalation techniques, professional communication, and maintaining a positive demeanor even with difficult customers. Role-playing scenarios can be highly effective.  \n",
    "\n",
    "- Deep Product & Process Knowledge: Ensure all customer service representatives (CSRs) possess a thorough understanding of all services, policies, and common operational procedures, enabling them to provide accurate and comprehensive assistance.  \n",
    "\n",
    "- Empowerment & Problem-Solving: Train CSRs to identify root causes of issues quickly and empower them with the necessary authority and tools to resolve common problems during the first contact, minimizing transfers and follow-ups.\n",
    "\n",
    "2-**Optimize Responsiveness and Accessibility**  \n",
    "\n",
    "- Multi-Channel Strategy: Ensure seamless and consistent service across all customer contact points, including phone, email, live chat, and social media, with clear Service Level Agreements (SLAs) for response times.\n",
    "\n",
    "- AI-Powered Automation for Tier 0: Deploy intelligent chatbots or IVR (Interactive Voice Response) systems to handle routine inquiries (e.g., tracking updates, FAQs) instantly, freeing human agents to focus on more complex, high-value issues.   \n",
    "\n",
    "- Staffing & Scheduling Optimization: Use historical data and forecasting to ensure adequate staffing levels during peak hours, minimizing wait times across all channels.   \n",
    "\n",
    "3-**Enhance Resolution Capabilities**  \n",
    "\n",
    "- Centralized Knowledge Base: Provide CSRs with an easily accessible, comprehensive, and regularly updated knowledge base containing solutions to common and complex issues.  \n",
    "\n",
    "- Integrated CRM System: Implement or upgrade your CRM to give agents a 360-degree view of customer history, previous interactions, and shipment details, eliminating the need for customers to repeat information.  \n",
    "\n",
    "- Clear Escalation Paths: Establish well-defined and efficient protocols for escalating complex or unresolved issues, ensuring smooth transitions and timely resolution by specialized teams.\n",
    "\n",
    "4-**Implement Robust Quality Assurance & Feedback Loops**  \n",
    "\n",
    "- Regular Interaction Monitoring: Systematically monitor calls, chat transcripts, and email communications for adherence to quality standards, professionalism, and effectiveness. Provide constructive feedback and coaching to agents.  \n",
    "\n",
    "- Customer Feedback Mechanisms: Deploy post-interaction surveys (e.g., CSAT, NPS) and actively solicit feedback to identify specific pain points, measure satisfaction with resolution, and pinpoint areas for agent-specific or process-wide improvement."
   ]
  },
  {
   "cell_type": "markdown",
   "metadata": {
    "id": "rua9W5mD9KWt"
   },
   "source": [
    "####**Damaged Packages**\n",
    "\n",
    "This issues involves two stages: Shipper practices and Internal Handling Protocols\n",
    "\n",
    "1- **Enhance Shipper Education & Support on Packaging**  \n",
    "\n",
    "- Comprehensive Digital Guides: Develop user-friendly online guides, video tutorials, and interactive tools demonstrating best practices for packaging various item types (fragile, heavy, liquids) with specific material recommendations.  \n",
    "\n",
    "- Offer Premium Packaging Services/Materials: Provide an option for customers to purchase high-quality, pre-approved packaging materials or even opt for professional packing services at an additional cost, reducing reliance on inadequate shipper-provided packaging.  \n",
    "\n",
    "- Pre-shipment Advisory: For high-value or unusual shipments, offer a consultation service where customers can get expert advice on optimal packaging solutions.  \n",
    "\n",
    "2- **Strengthen Internal Handling Protocols & Training**\n",
    "\n",
    "- Mandatory Handling Training: Conduct rigorous, recurrent training for all personnel involved in the package journey (sorters, loaders, drivers) on proper lifting techniques, careful stacking, fragile item recognition, and minimizing impacts.\n",
    "\n",
    "- Automated System Optimization: Regularly audit and maintain automated sorting and conveyance systems to ensure they handle packages gently, reducing damage from drops, crushes, or impacts within facilities.  \n",
    "\n",
    "- Secure Loading Procedures: Implement strict protocols for loading vehicles, ensuring proper weight distribution, secure bracing of cargo, and safe stacking to prevent shifting and damage during transit.  \n",
    "\n",
    "3- **Implement Quality Control & Pre-emptive Checks**\n",
    "\n",
    "- Initial Packaging Inspection: Empower and train pickup drivers or drop-off point staff to perform a quick visual assessment of external packaging. If clearly inadequate for the contents (e.g., box too weak, obvious liquid leaks), advise the customer and potentially refuse the shipment without proper re-packaging.  \n",
    "\n",
    "- Spot Checks at Sortation Centers: Introduce random or targeted quality control checks at key transfer points to identify poorly packaged items that may require re-packaging by your staff (potentially with associated fees) before further transit.  \n",
    "\n",
    "- Damage Reporting Tools: Equip drivers with tools to quickly document any package damage discovered before delivery, including photo evidence and immediate reporting back to the hub.  \n",
    "\n",
    "4- **Data-Driven Damage Prevention**\n",
    "\n",
    "- Analyze Claim Data: Systematically collect and analyze data from all damage claims to identify patterns. Look for common transit lanes, specific types of items, particular sorting centers, or even specific vehicle types associated with higher damage rates.  \n",
    "\n",
    "- Iterative Process Improvement: Use these insights to implement targeted operational adjustments, new equipment, or revised handling instructions to address the root causes of damage.\n"
   ]
  },
  {
   "cell_type": "markdown",
   "metadata": {
    "id": "Y6d8V5O0BUK7"
   },
   "source": [
    "####**Inaccurate Tracking System**\n",
    "\n",
    "1- **Enhance Data Capture and Integration at Every Touchpoint**\n",
    "\n",
    "- Advanced Scanning Technology: Upgrade to state-of-the-art scanning equipment at all processing points (pickup, sorting, loading, transit, delivery) to ensure precise and instantaneous capture of package status updates.\n",
    "\n",
    "- Driver Mobile App Optimization: Equip drivers with intuitive, reliable mobile applications that facilitate accurate and real-time scanning and status updates (e.g., \"Out for Delivery,\" \"Delivery Attempted,\" \"Delivered\"), including GPS timestamps for location verification.\n",
    "\n",
    "- Seamless System Integration: Ensure all operational systems (warehouse management, fleet management, dispatch, customer service) are fully integrated to allow for immediate data synchronization and prevent information silos.\n",
    "\n",
    "2- **Ensure Real-time Data Transmission and System Reliability**\n",
    "\n",
    "- Instant Data Sync: Implement a system architecture that pushes data from scan points directly to the central tracking database in real-time, minimizing any lag between an event occurring and its reflection in the tracking system.\n",
    "- Robust Network Infrastructure: Invest in reliable internet connectivity and network systems across all facilities and mobile units to guarantee consistent data flow without interruptions.\n",
    "- Cloud-Based Scalability: Utilize a cloud-native tracking platform that can scale to handle high volumes of concurrent updates and ensure uptime, providing customers with reliable access 24/7.\n",
    "\n",
    "3- **Improve Clarity and User Experience of Tracking Information**\n",
    "\n",
    "- Simplified Status Definitions: Translate internal operational codes into clear, plain-language status updates for customers (e.g., \"In Transit,\" \"Ready for Pickup,\" \"Delivery Attempted – Customer Not Home\").\n",
    "- Dynamic Estimated Delivery Windows: Display evolving estimated delivery windows or times on the tracking portal that adjust based on real-time factors like traffic or delays, rather than just static dates.\n",
    "- Proactive Explanations for Exceptions: For any unusual statuses or significant delays, provide concise, automated explanations directly within the tracking interface (e.g., \"Delay due to inclement weather,\" \"Customs clearance in progress\").\n",
    "\n",
    "4- **Implement Rigorous Monitoring and Auditing**\n",
    "\n",
    "- Automated Discrepancy Alerts: Set up internal monitoring tools that automatically flag inconsistencies, missed scans, or packages remaining in the same status for an unusual duration, prompting immediate investigation by operations teams.\n",
    "- Regular Data Audits: Conduct routine audits of tracking data to identify common points of error or delay in information flow, allowing for targeted process improvements or technology upgrades.\n",
    "- Customer Feedback on Tracking: Actively solicit feedback on the clarity and accuracy of the tracking system through surveys to pinpoint areas needing improvement from the user's perspective."
   ]
  },
  {
   "cell_type": "markdown",
   "metadata": {
    "id": "FD1Qd1vTBT79"
   },
   "source": [
    "####**Hidden Fees and Misleading Pricing**\n",
    "\n",
    "1-**Implement a Comprehensive, All-Inclusive Quoting System**\n",
    "\n",
    "- Real-time, Final Pricing: Develop an online quoting tool that provides an upfront, all-inclusive estimated cost at the point of inquiry, encompassing all standard surcharges (e.g., fuel, residential delivery, remote area fees, weekend delivery) based on the input details (weight, dimensions, origin, destination, service level).\n",
    "\n",
    "- Transparent Breakdown: Within the quote, clearly itemize and explain every component of the price (base rate, all surcharges, taxes, and any value-added service fees), even if only the total is initially highlighted.\n",
    "\n",
    "- Dynamic Calculation: Ensure the system accurately calculates potential fees for specific services or destinations, adjusting in real-time as customers input details.\n",
    "\n",
    "2-**Proactive and Clear Disclosure of Potential Additional Charges**\n",
    "\n",
    "- Prominent Warnings: Clearly list and explain common scenarios that might trigger post-quote additional charges (e.g., re-delivery attempts, address corrections due to customer error, customs duties/taxes for international shipments, special handling for undeclared oversized/fragile items). Display these warnings at relevant stages (e.g., during booking, in confirmation emails).\n",
    "\n",
    "- Pre-shipment Verification: If possible, implement a system to verify key shipment characteristics (e.g., weight, dimensions) early in the process. If discrepancies are found that affect pricing, inform the customer before the final invoice is issued, offering a chance to adjust or cancel.\n",
    "\n",
    "- Accessible Terms: Ensure your pricing terms and conditions, including all potential fees, are easily findable on your website and written in clear, unambiguous language.\n",
    "\n",
    "3-**Standardize and Justify All Surcharges**\n",
    "\n",
    "- Clear Surcharge Explanations: Provide concise, simple explanations for why each surcharge exists (e.g., \"Fuel Surcharge: Reflects the variable cost of fuel for transportation,\" \"Peak Season Surcharge: Applied during periods of unusually high demand to manage network capacity\").  \n",
    "\n",
    "- Regular Review and Rationalization: Periodically review all existing surcharges to ensure they remain relevant, fair, and competitive. Eliminate any obsolete or confusing fees.  \n",
    "\n",
    "4-**Improve Invoicing Clarity and Dispute Resolutio**\n",
    "\n",
    "- Detailed, Itemized Invoices: Issue invoices that precisely match the quoted breakdown and clearly show all charges applied, linking them directly to the services provided.  \n",
    "\n",
    "- Automated Discrepancy Flagging: Implement internal systems that automatically flag significant differences between the initial quote and the final charge, prompting internal review and proactive communication with the customer before billing.  \n",
    "\n",
    "- Streamlined Dispute Process: Establish a clear, accessible, and prompt process for customers to dispute unexpected charges, ensuring rapid investigation and transparent resolution."
   ]
  },
  {
   "cell_type": "markdown",
   "metadata": {
    "id": "oPFyrZ-PHQm_"
   },
   "source": [
    "### Final Note\n",
    "\n",
    "The above described suggestions should be discussed as part of the short, medium, and long term company improvement plan and performance goals for ExpressWay Logistics. The implementation of said recommendations is subject to the company's priorities and availability of required resources, such as financial, managerial, administrative and human."
   ]
  }
 ],
 "metadata": {
  "colab": {
   "provenance": []
  },
  "kernelspec": {
   "display_name": "Python 3",
   "name": "python3"
  },
  "language_info": {
   "codemirror_mode": {
    "name": "ipython",
    "version": 3
   },
   "file_extension": ".py",
   "mimetype": "text/x-python",
   "name": "python",
   "nbconvert_exporter": "python",
   "pygments_lexer": "ipython3",
   "version": "3.12.2"
  }
 },
 "nbformat": 4,
 "nbformat_minor": 0
}
